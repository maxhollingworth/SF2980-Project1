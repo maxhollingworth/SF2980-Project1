{
 "cells": [
  {
   "cell_type": "markdown",
   "source": [
    "# Example 7.10: Exact intervals for quantiles\n"
   ],
   "metadata": {
    "collapsed": false
   },
   "id": "62382d6618c249f4"
  },
  {
   "cell_type": "code",
   "outputs": [],
   "source": [
    "# Example 7.10: Exact intervals for quantiles\n"
   ],
   "metadata": {
    "collapsed": false,
    "ExecuteTime": {
     "end_time": "2024-11-11T13:16:52.777908Z",
     "start_time": "2024-11-11T13:16:52.775770Z"
    }
   },
   "id": "f3e307d123e7595c",
   "execution_count": 2
  },
  {
   "cell_type": "code",
   "execution_count": 1,
   "id": "initial_id",
   "metadata": {
    "collapsed": true,
    "ExecuteTime": {
     "end_time": "2024-11-11T12:48:50.253039Z",
     "start_time": "2024-11-11T12:48:50.244712Z"
    }
   },
   "outputs": [
    {
     "name": "stdout",
     "output_type": "stream",
     "text": [
      "hej\n"
     ]
    }
   ],
   "source": [
    "print('hej')\n"
   ]
  }
 ],
 "metadata": {
  "kernelspec": {
   "display_name": "Python 3",
   "language": "python",
   "name": "python3"
  },
  "language_info": {
   "codemirror_mode": {
    "name": "ipython",
    "version": 2
   },
   "file_extension": ".py",
   "mimetype": "text/x-python",
   "name": "python",
   "nbconvert_exporter": "python",
   "pygments_lexer": "ipython2",
   "version": "2.7.6"
  }
 },
 "nbformat": 4,
 "nbformat_minor": 5
}
